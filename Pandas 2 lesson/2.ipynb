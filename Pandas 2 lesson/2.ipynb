{
 "cells": [
  {
   "cell_type": "code",
   "execution_count": 1,
   "id": "e55431f5-d4ea-4aef-b9a3-2e89f24fa487",
   "metadata": {},
   "outputs": [],
   "source": [
    "import pandas as pd"
   ]
  },
  {
   "cell_type": "code",
   "execution_count": 2,
   "id": "2462b1aa-d60f-4603-a409-9784508f2cbe",
   "metadata": {},
   "outputs": [],
   "source": [
    "df = pd.read_csv('banks.csv', sep = ';') "
   ]
  },
  {
   "cell_type": "code",
   "execution_count": 3,
   "id": "c0839298-077d-4a81-8ed4-1cf634f8b6b4",
   "metadata": {},
   "outputs": [
    {
     "data": {
      "text/html": [
       "<div>\n",
       "<style scoped>\n",
       "    .dataframe tbody tr th:only-of-type {\n",
       "        vertical-align: middle;\n",
       "    }\n",
       "\n",
       "    .dataframe tbody tr th {\n",
       "        vertical-align: top;\n",
       "    }\n",
       "\n",
       "    .dataframe thead th {\n",
       "        text-align: right;\n",
       "    }\n",
       "</style>\n",
       "<table border=\"1\" class=\"dataframe\">\n",
       "  <thead>\n",
       "    <tr style=\"text-align: right;\">\n",
       "      <th></th>\n",
       "      <th>Name</th>\n",
       "      <th>Platezh</th>\n",
       "      <th>Data</th>\n",
       "      <th>Bank</th>\n",
       "    </tr>\n",
       "  </thead>\n",
       "  <tbody>\n",
       "    <tr>\n",
       "      <th>0</th>\n",
       "      <td>Ivan</td>\n",
       "      <td>1000</td>\n",
       "      <td>07.06.2015</td>\n",
       "      <td>A</td>\n",
       "    </tr>\n",
       "    <tr>\n",
       "      <th>1</th>\n",
       "      <td>Anna</td>\n",
       "      <td>2000</td>\n",
       "      <td>08.06.2015</td>\n",
       "      <td>B</td>\n",
       "    </tr>\n",
       "    <tr>\n",
       "      <th>2</th>\n",
       "      <td>Alex</td>\n",
       "      <td>3000</td>\n",
       "      <td>09.06.2015</td>\n",
       "      <td>C</td>\n",
       "    </tr>\n",
       "    <tr>\n",
       "      <th>3</th>\n",
       "      <td>Egor</td>\n",
       "      <td>4000</td>\n",
       "      <td>10.06.2015</td>\n",
       "      <td>A</td>\n",
       "    </tr>\n",
       "    <tr>\n",
       "      <th>4</th>\n",
       "      <td>Vadim</td>\n",
       "      <td>5000</td>\n",
       "      <td>11.06.2015</td>\n",
       "      <td>B</td>\n",
       "    </tr>\n",
       "    <tr>\n",
       "      <th>5</th>\n",
       "      <td>Andrey</td>\n",
       "      <td>6000</td>\n",
       "      <td>12.06.2015</td>\n",
       "      <td>C</td>\n",
       "    </tr>\n",
       "    <tr>\n",
       "      <th>6</th>\n",
       "      <td>Oleg</td>\n",
       "      <td>7000</td>\n",
       "      <td>13.06.2015</td>\n",
       "      <td>A</td>\n",
       "    </tr>\n",
       "    <tr>\n",
       "      <th>7</th>\n",
       "      <td>Anton</td>\n",
       "      <td>8000</td>\n",
       "      <td>14.06.2015</td>\n",
       "      <td>A</td>\n",
       "    </tr>\n",
       "    <tr>\n",
       "      <th>8</th>\n",
       "      <td>Pavel</td>\n",
       "      <td>9000</td>\n",
       "      <td>09.06.2015</td>\n",
       "      <td>B</td>\n",
       "    </tr>\n",
       "    <tr>\n",
       "      <th>9</th>\n",
       "      <td>Mira</td>\n",
       "      <td>2000</td>\n",
       "      <td>12.06.2015</td>\n",
       "      <td>C</td>\n",
       "    </tr>\n",
       "  </tbody>\n",
       "</table>\n",
       "</div>"
      ],
      "text/plain": [
       "     Name  Platezh        Data Bank\n",
       "0    Ivan     1000  07.06.2015    A\n",
       "1    Anna     2000  08.06.2015    B\n",
       "2    Alex     3000  09.06.2015    C\n",
       "3    Egor     4000  10.06.2015    A\n",
       "4   Vadim     5000  11.06.2015    B\n",
       "5  Andrey     6000  12.06.2015    C\n",
       "6    Oleg     7000  13.06.2015    A\n",
       "7   Anton     8000  14.06.2015    A\n",
       "8   Pavel     9000  09.06.2015    B\n",
       "9    Mira     2000  12.06.2015    C"
      ]
     },
     "execution_count": 3,
     "metadata": {},
     "output_type": "execute_result"
    }
   ],
   "source": [
    "df"
   ]
  },
  {
   "cell_type": "code",
   "execution_count": 4,
   "id": "9ad8821d-1f56-4dc0-a02d-74420dc82ac1",
   "metadata": {},
   "outputs": [
    {
     "data": {
      "text/html": [
       "<div>\n",
       "<style scoped>\n",
       "    .dataframe tbody tr th:only-of-type {\n",
       "        vertical-align: middle;\n",
       "    }\n",
       "\n",
       "    .dataframe tbody tr th {\n",
       "        vertical-align: top;\n",
       "    }\n",
       "\n",
       "    .dataframe thead th {\n",
       "        text-align: right;\n",
       "    }\n",
       "</style>\n",
       "<table border=\"1\" class=\"dataframe\">\n",
       "  <thead>\n",
       "    <tr style=\"text-align: right;\">\n",
       "      <th></th>\n",
       "      <th>Name</th>\n",
       "      <th>Platezh</th>\n",
       "      <th>Data</th>\n",
       "      <th>Bank</th>\n",
       "    </tr>\n",
       "  </thead>\n",
       "  <tbody>\n",
       "    <tr>\n",
       "      <th>0</th>\n",
       "      <td>Ivan</td>\n",
       "      <td>1000</td>\n",
       "      <td>07.06.2015</td>\n",
       "      <td>A</td>\n",
       "    </tr>\n",
       "    <tr>\n",
       "      <th>1</th>\n",
       "      <td>Anna</td>\n",
       "      <td>2000</td>\n",
       "      <td>08.06.2015</td>\n",
       "      <td>B</td>\n",
       "    </tr>\n",
       "    <tr>\n",
       "      <th>2</th>\n",
       "      <td>Alex</td>\n",
       "      <td>3000</td>\n",
       "      <td>09.06.2015</td>\n",
       "      <td>C</td>\n",
       "    </tr>\n",
       "    <tr>\n",
       "      <th>3</th>\n",
       "      <td>Egor</td>\n",
       "      <td>4000</td>\n",
       "      <td>10.06.2015</td>\n",
       "      <td>A</td>\n",
       "    </tr>\n",
       "    <tr>\n",
       "      <th>4</th>\n",
       "      <td>Vadim</td>\n",
       "      <td>5000</td>\n",
       "      <td>11.06.2015</td>\n",
       "      <td>B</td>\n",
       "    </tr>\n",
       "  </tbody>\n",
       "</table>\n",
       "</div>"
      ],
      "text/plain": [
       "    Name  Platezh        Data Bank\n",
       "0   Ivan     1000  07.06.2015    A\n",
       "1   Anna     2000  08.06.2015    B\n",
       "2   Alex     3000  09.06.2015    C\n",
       "3   Egor     4000  10.06.2015    A\n",
       "4  Vadim     5000  11.06.2015    B"
      ]
     },
     "execution_count": 4,
     "metadata": {},
     "output_type": "execute_result"
    }
   ],
   "source": [
    "#вывод первых элементов таблицы\n",
    "df.head()"
   ]
  },
  {
   "cell_type": "code",
   "execution_count": 5,
   "id": "82be2bd6-62c7-4444-9676-548ebc07388b",
   "metadata": {},
   "outputs": [
    {
     "data": {
      "text/html": [
       "<div>\n",
       "<style scoped>\n",
       "    .dataframe tbody tr th:only-of-type {\n",
       "        vertical-align: middle;\n",
       "    }\n",
       "\n",
       "    .dataframe tbody tr th {\n",
       "        vertical-align: top;\n",
       "    }\n",
       "\n",
       "    .dataframe thead th {\n",
       "        text-align: right;\n",
       "    }\n",
       "</style>\n",
       "<table border=\"1\" class=\"dataframe\">\n",
       "  <thead>\n",
       "    <tr style=\"text-align: right;\">\n",
       "      <th></th>\n",
       "      <th>Name</th>\n",
       "      <th>Platezh</th>\n",
       "      <th>Data</th>\n",
       "      <th>Bank</th>\n",
       "    </tr>\n",
       "  </thead>\n",
       "  <tbody>\n",
       "    <tr>\n",
       "      <th>5</th>\n",
       "      <td>Andrey</td>\n",
       "      <td>6000</td>\n",
       "      <td>12.06.2015</td>\n",
       "      <td>C</td>\n",
       "    </tr>\n",
       "    <tr>\n",
       "      <th>6</th>\n",
       "      <td>Oleg</td>\n",
       "      <td>7000</td>\n",
       "      <td>13.06.2015</td>\n",
       "      <td>A</td>\n",
       "    </tr>\n",
       "    <tr>\n",
       "      <th>7</th>\n",
       "      <td>Anton</td>\n",
       "      <td>8000</td>\n",
       "      <td>14.06.2015</td>\n",
       "      <td>A</td>\n",
       "    </tr>\n",
       "    <tr>\n",
       "      <th>8</th>\n",
       "      <td>Pavel</td>\n",
       "      <td>9000</td>\n",
       "      <td>09.06.2015</td>\n",
       "      <td>B</td>\n",
       "    </tr>\n",
       "    <tr>\n",
       "      <th>9</th>\n",
       "      <td>Mira</td>\n",
       "      <td>2000</td>\n",
       "      <td>12.06.2015</td>\n",
       "      <td>C</td>\n",
       "    </tr>\n",
       "  </tbody>\n",
       "</table>\n",
       "</div>"
      ],
      "text/plain": [
       "     Name  Platezh        Data Bank\n",
       "5  Andrey     6000  12.06.2015    C\n",
       "6    Oleg     7000  13.06.2015    A\n",
       "7   Anton     8000  14.06.2015    A\n",
       "8   Pavel     9000  09.06.2015    B\n",
       "9    Mira     2000  12.06.2015    C"
      ]
     },
     "execution_count": 5,
     "metadata": {},
     "output_type": "execute_result"
    }
   ],
   "source": [
    "#Вывод последних элементов \n",
    "df.tail()"
   ]
  },
  {
   "cell_type": "code",
   "execution_count": 6,
   "id": "c4671021-de04-4a7d-9b97-16640ac8bd0a",
   "metadata": {},
   "outputs": [
    {
     "data": {
      "text/plain": [
       "(10, 4)"
      ]
     },
     "execution_count": 6,
     "metadata": {},
     "output_type": "execute_result"
    }
   ],
   "source": [
    "#Вывод кол-ва строк и колонок\n",
    "df.shape"
   ]
  },
  {
   "cell_type": "code",
   "execution_count": 7,
   "id": "03f772ce-b901-445c-a9a1-45d18c2886c5",
   "metadata": {},
   "outputs": [
    {
     "data": {
      "text/plain": [
       "Index(['Name', 'Platezh', 'Data', 'Bank'], dtype='object')"
      ]
     },
     "execution_count": 7,
     "metadata": {},
     "output_type": "execute_result"
    }
   ],
   "source": [
    "#Вывод имени колонок\n",
    "df.columns"
   ]
  },
  {
   "cell_type": "code",
   "execution_count": 8,
   "id": "03a02e92-5279-41b0-bdb8-e28a69c20b01",
   "metadata": {},
   "outputs": [
    {
     "data": {
      "text/html": [
       "<div>\n",
       "<style scoped>\n",
       "    .dataframe tbody tr th:only-of-type {\n",
       "        vertical-align: middle;\n",
       "    }\n",
       "\n",
       "    .dataframe tbody tr th {\n",
       "        vertical-align: top;\n",
       "    }\n",
       "\n",
       "    .dataframe thead th {\n",
       "        text-align: right;\n",
       "    }\n",
       "</style>\n",
       "<table border=\"1\" class=\"dataframe\">\n",
       "  <thead>\n",
       "    <tr style=\"text-align: right;\">\n",
       "      <th></th>\n",
       "      <th>Platezh</th>\n",
       "    </tr>\n",
       "  </thead>\n",
       "  <tbody>\n",
       "    <tr>\n",
       "      <th>count</th>\n",
       "      <td>10.000000</td>\n",
       "    </tr>\n",
       "    <tr>\n",
       "      <th>mean</th>\n",
       "      <td>4700.000000</td>\n",
       "    </tr>\n",
       "    <tr>\n",
       "      <th>std</th>\n",
       "      <td>2750.757471</td>\n",
       "    </tr>\n",
       "    <tr>\n",
       "      <th>min</th>\n",
       "      <td>1000.000000</td>\n",
       "    </tr>\n",
       "    <tr>\n",
       "      <th>25%</th>\n",
       "      <td>2250.000000</td>\n",
       "    </tr>\n",
       "    <tr>\n",
       "      <th>50%</th>\n",
       "      <td>4500.000000</td>\n",
       "    </tr>\n",
       "    <tr>\n",
       "      <th>75%</th>\n",
       "      <td>6750.000000</td>\n",
       "    </tr>\n",
       "    <tr>\n",
       "      <th>max</th>\n",
       "      <td>9000.000000</td>\n",
       "    </tr>\n",
       "  </tbody>\n",
       "</table>\n",
       "</div>"
      ],
      "text/plain": [
       "           Platezh\n",
       "count    10.000000\n",
       "mean   4700.000000\n",
       "std    2750.757471\n",
       "min    1000.000000\n",
       "25%    2250.000000\n",
       "50%    4500.000000\n",
       "75%    6750.000000\n",
       "max    9000.000000"
      ]
     },
     "execution_count": 8,
     "metadata": {},
     "output_type": "execute_result"
    }
   ],
   "source": [
    "#Какая-то статистика\n",
    "df.describe()"
   ]
  },
  {
   "cell_type": "code",
   "execution_count": 9,
   "id": "03d87611-62c6-42c8-accb-3ef37e027369",
   "metadata": {},
   "outputs": [],
   "source": [
    "#Переименовать колонки\n",
    "df1 = df.rename(columns= {'Data': \"Day\", 'Platezh': 'Trunk'})"
   ]
  },
  {
   "cell_type": "code",
   "execution_count": 10,
   "id": "3999f135-4458-477f-b166-a311292dfa21",
   "metadata": {},
   "outputs": [
    {
     "data": {
      "text/html": [
       "<div>\n",
       "<style scoped>\n",
       "    .dataframe tbody tr th:only-of-type {\n",
       "        vertical-align: middle;\n",
       "    }\n",
       "\n",
       "    .dataframe tbody tr th {\n",
       "        vertical-align: top;\n",
       "    }\n",
       "\n",
       "    .dataframe thead th {\n",
       "        text-align: right;\n",
       "    }\n",
       "</style>\n",
       "<table border=\"1\" class=\"dataframe\">\n",
       "  <thead>\n",
       "    <tr style=\"text-align: right;\">\n",
       "      <th></th>\n",
       "      <th>Name</th>\n",
       "      <th>Trunk</th>\n",
       "      <th>Day</th>\n",
       "      <th>Bank</th>\n",
       "    </tr>\n",
       "  </thead>\n",
       "  <tbody>\n",
       "    <tr>\n",
       "      <th>0</th>\n",
       "      <td>Ivan</td>\n",
       "      <td>1000</td>\n",
       "      <td>07.06.2015</td>\n",
       "      <td>A</td>\n",
       "    </tr>\n",
       "    <tr>\n",
       "      <th>1</th>\n",
       "      <td>Anna</td>\n",
       "      <td>2000</td>\n",
       "      <td>08.06.2015</td>\n",
       "      <td>B</td>\n",
       "    </tr>\n",
       "    <tr>\n",
       "      <th>2</th>\n",
       "      <td>Alex</td>\n",
       "      <td>3000</td>\n",
       "      <td>09.06.2015</td>\n",
       "      <td>C</td>\n",
       "    </tr>\n",
       "    <tr>\n",
       "      <th>3</th>\n",
       "      <td>Egor</td>\n",
       "      <td>4000</td>\n",
       "      <td>10.06.2015</td>\n",
       "      <td>A</td>\n",
       "    </tr>\n",
       "    <tr>\n",
       "      <th>4</th>\n",
       "      <td>Vadim</td>\n",
       "      <td>5000</td>\n",
       "      <td>11.06.2015</td>\n",
       "      <td>B</td>\n",
       "    </tr>\n",
       "    <tr>\n",
       "      <th>5</th>\n",
       "      <td>Andrey</td>\n",
       "      <td>6000</td>\n",
       "      <td>12.06.2015</td>\n",
       "      <td>C</td>\n",
       "    </tr>\n",
       "    <tr>\n",
       "      <th>6</th>\n",
       "      <td>Oleg</td>\n",
       "      <td>7000</td>\n",
       "      <td>13.06.2015</td>\n",
       "      <td>A</td>\n",
       "    </tr>\n",
       "    <tr>\n",
       "      <th>7</th>\n",
       "      <td>Anton</td>\n",
       "      <td>8000</td>\n",
       "      <td>14.06.2015</td>\n",
       "      <td>A</td>\n",
       "    </tr>\n",
       "    <tr>\n",
       "      <th>8</th>\n",
       "      <td>Pavel</td>\n",
       "      <td>9000</td>\n",
       "      <td>09.06.2015</td>\n",
       "      <td>B</td>\n",
       "    </tr>\n",
       "    <tr>\n",
       "      <th>9</th>\n",
       "      <td>Mira</td>\n",
       "      <td>2000</td>\n",
       "      <td>12.06.2015</td>\n",
       "      <td>C</td>\n",
       "    </tr>\n",
       "  </tbody>\n",
       "</table>\n",
       "</div>"
      ],
      "text/plain": [
       "     Name  Trunk         Day Bank\n",
       "0    Ivan   1000  07.06.2015    A\n",
       "1    Anna   2000  08.06.2015    B\n",
       "2    Alex   3000  09.06.2015    C\n",
       "3    Egor   4000  10.06.2015    A\n",
       "4   Vadim   5000  11.06.2015    B\n",
       "5  Andrey   6000  12.06.2015    C\n",
       "6    Oleg   7000  13.06.2015    A\n",
       "7   Anton   8000  14.06.2015    A\n",
       "8   Pavel   9000  09.06.2015    B\n",
       "9    Mira   2000  12.06.2015    C"
      ]
     },
     "execution_count": 10,
     "metadata": {},
     "output_type": "execute_result"
    }
   ],
   "source": [
    "df1"
   ]
  },
  {
   "cell_type": "code",
   "execution_count": 11,
   "id": "bf2ed514-1b3c-489e-8810-8cd704812ab5",
   "metadata": {},
   "outputs": [
    {
     "data": {
      "text/plain": [
       "0      Ivan\n",
       "1      Anna\n",
       "2      Alex\n",
       "3      Egor\n",
       "4     Vadim\n",
       "5    Andrey\n",
       "6      Oleg\n",
       "7     Anton\n",
       "8     Pavel\n",
       "9      Mira\n",
       "Name: Name, dtype: object"
      ]
     },
     "execution_count": 11,
     "metadata": {},
     "output_type": "execute_result"
    }
   ],
   "source": [
    "#Вывод одной колонки\n",
    "df['Name']"
   ]
  },
  {
   "cell_type": "code",
   "execution_count": 12,
   "id": "f65122ae-04a5-429e-9b36-0f5dc75192d3",
   "metadata": {},
   "outputs": [
    {
     "data": {
      "text/html": [
       "<div>\n",
       "<style scoped>\n",
       "    .dataframe tbody tr th:only-of-type {\n",
       "        vertical-align: middle;\n",
       "    }\n",
       "\n",
       "    .dataframe tbody tr th {\n",
       "        vertical-align: top;\n",
       "    }\n",
       "\n",
       "    .dataframe thead th {\n",
       "        text-align: right;\n",
       "    }\n",
       "</style>\n",
       "<table border=\"1\" class=\"dataframe\">\n",
       "  <thead>\n",
       "    <tr style=\"text-align: right;\">\n",
       "      <th></th>\n",
       "      <th>Name</th>\n",
       "      <th>Data</th>\n",
       "    </tr>\n",
       "  </thead>\n",
       "  <tbody>\n",
       "    <tr>\n",
       "      <th>0</th>\n",
       "      <td>Ivan</td>\n",
       "      <td>07.06.2015</td>\n",
       "    </tr>\n",
       "    <tr>\n",
       "      <th>1</th>\n",
       "      <td>Anna</td>\n",
       "      <td>08.06.2015</td>\n",
       "    </tr>\n",
       "    <tr>\n",
       "      <th>2</th>\n",
       "      <td>Alex</td>\n",
       "      <td>09.06.2015</td>\n",
       "    </tr>\n",
       "    <tr>\n",
       "      <th>3</th>\n",
       "      <td>Egor</td>\n",
       "      <td>10.06.2015</td>\n",
       "    </tr>\n",
       "    <tr>\n",
       "      <th>4</th>\n",
       "      <td>Vadim</td>\n",
       "      <td>11.06.2015</td>\n",
       "    </tr>\n",
       "  </tbody>\n",
       "</table>\n",
       "</div>"
      ],
      "text/plain": [
       "    Name        Data\n",
       "0   Ivan  07.06.2015\n",
       "1   Anna  08.06.2015\n",
       "2   Alex  09.06.2015\n",
       "3   Egor  10.06.2015\n",
       "4  Vadim  11.06.2015"
      ]
     },
     "execution_count": 12,
     "metadata": {},
     "output_type": "execute_result"
    }
   ],
   "source": [
    "#Вывод нескольких колонок\n",
    "df[['Name', 'Data']].head()"
   ]
  },
  {
   "cell_type": "code",
   "execution_count": 13,
   "id": "21fb6498-ff11-48ff-9987-663cd7c06398",
   "metadata": {},
   "outputs": [
    {
     "data": {
      "text/plain": [
       "0    07.06.2015\n",
       "1    08.06.2015\n",
       "2    09.06.2015\n",
       "3    10.06.2015\n",
       "4    11.06.2015\n",
       "Name: Data, dtype: object"
      ]
     },
     "execution_count": 13,
     "metadata": {},
     "output_type": "execute_result"
    }
   ],
   "source": [
    "df.Data.head()"
   ]
  },
  {
   "cell_type": "code",
   "execution_count": 14,
   "id": "10d94c40-4869-445b-8ea6-f545751e5cd4",
   "metadata": {},
   "outputs": [
    {
     "data": {
      "text/plain": [
       "Name       object\n",
       "Platezh     int64\n",
       "Data       object\n",
       "Bank       object\n",
       "dtype: object"
      ]
     },
     "execution_count": 14,
     "metadata": {},
     "output_type": "execute_result"
    }
   ],
   "source": [
    "df.dtypes"
   ]
  },
  {
   "cell_type": "code",
   "execution_count": 15,
   "id": "e39761e9-18e4-4ba2-979b-cae2dec69c72",
   "metadata": {},
   "outputs": [],
   "source": [
    "all_money = df.Platezh.sum()"
   ]
  },
  {
   "cell_type": "code",
   "execution_count": 16,
   "id": "f368d4ad-91ef-4851-96ec-ba7fb45db579",
   "metadata": {},
   "outputs": [
    {
     "data": {
      "text/plain": [
       "47000"
      ]
     },
     "execution_count": 16,
     "metadata": {},
     "output_type": "execute_result"
    }
   ],
   "source": [
    "all_money"
   ]
  },
  {
   "cell_type": "code",
   "execution_count": 17,
   "id": "2213deba-696c-4643-a039-a0241ea5d44e",
   "metadata": {},
   "outputs": [],
   "source": [
    "#ascending для того чтобы отсортировать от самого большого к самому маленькому, as_index=False, чтобы убрать индексацию Дата. \\ - для переноса строки\n",
    "plat_by_data = df.groupby('Data', as_index=False) \\\n",
    "    .aggregate({'Platezh': 'sum'})\\\n",
    "    .sort_values(\"Platezh\", ascending=False)"
   ]
  },
  {
   "cell_type": "code",
   "execution_count": 18,
   "id": "935522bd-884a-4b91-8bf7-957c0ebcb944",
   "metadata": {
    "scrolled": true
   },
   "outputs": [
    {
     "data": {
      "text/html": [
       "<div>\n",
       "<style scoped>\n",
       "    .dataframe tbody tr th:only-of-type {\n",
       "        vertical-align: middle;\n",
       "    }\n",
       "\n",
       "    .dataframe tbody tr th {\n",
       "        vertical-align: top;\n",
       "    }\n",
       "\n",
       "    .dataframe thead th {\n",
       "        text-align: right;\n",
       "    }\n",
       "</style>\n",
       "<table border=\"1\" class=\"dataframe\">\n",
       "  <thead>\n",
       "    <tr style=\"text-align: right;\">\n",
       "      <th></th>\n",
       "      <th>Data</th>\n",
       "      <th>Bank</th>\n",
       "      <th>Platezh</th>\n",
       "    </tr>\n",
       "  </thead>\n",
       "  <tbody>\n",
       "    <tr>\n",
       "      <th>2</th>\n",
       "      <td>09.06.2015</td>\n",
       "      <td>B</td>\n",
       "      <td>9000</td>\n",
       "    </tr>\n",
       "    <tr>\n",
       "      <th>6</th>\n",
       "      <td>12.06.2015</td>\n",
       "      <td>C</td>\n",
       "      <td>8000</td>\n",
       "    </tr>\n",
       "    <tr>\n",
       "      <th>8</th>\n",
       "      <td>14.06.2015</td>\n",
       "      <td>A</td>\n",
       "      <td>8000</td>\n",
       "    </tr>\n",
       "    <tr>\n",
       "      <th>7</th>\n",
       "      <td>13.06.2015</td>\n",
       "      <td>A</td>\n",
       "      <td>7000</td>\n",
       "    </tr>\n",
       "    <tr>\n",
       "      <th>5</th>\n",
       "      <td>11.06.2015</td>\n",
       "      <td>B</td>\n",
       "      <td>5000</td>\n",
       "    </tr>\n",
       "    <tr>\n",
       "      <th>4</th>\n",
       "      <td>10.06.2015</td>\n",
       "      <td>A</td>\n",
       "      <td>4000</td>\n",
       "    </tr>\n",
       "    <tr>\n",
       "      <th>3</th>\n",
       "      <td>09.06.2015</td>\n",
       "      <td>C</td>\n",
       "      <td>3000</td>\n",
       "    </tr>\n",
       "    <tr>\n",
       "      <th>1</th>\n",
       "      <td>08.06.2015</td>\n",
       "      <td>B</td>\n",
       "      <td>2000</td>\n",
       "    </tr>\n",
       "    <tr>\n",
       "      <th>0</th>\n",
       "      <td>07.06.2015</td>\n",
       "      <td>A</td>\n",
       "      <td>1000</td>\n",
       "    </tr>\n",
       "  </tbody>\n",
       "</table>\n",
       "</div>"
      ],
      "text/plain": [
       "         Data Bank  Platezh\n",
       "2  09.06.2015    B     9000\n",
       "6  12.06.2015    C     8000\n",
       "8  14.06.2015    A     8000\n",
       "7  13.06.2015    A     7000\n",
       "5  11.06.2015    B     5000\n",
       "4  10.06.2015    A     4000\n",
       "3  09.06.2015    C     3000\n",
       "1  08.06.2015    B     2000\n",
       "0  07.06.2015    A     1000"
      ]
     },
     "execution_count": 18,
     "metadata": {},
     "output_type": "execute_result"
    }
   ],
   "source": [
    "df.groupby(['Data', 'Bank'], as_index=False) \\\n",
    "    .aggregate({'Platezh': 'sum'})\\\n",
    "    .sort_values(\"Platezh\", ascending=False)"
   ]
  },
  {
   "cell_type": "code",
   "execution_count": 19,
   "id": "658fc5a0-3aa1-4bf2-85ac-ac64b16855a7",
   "metadata": {},
   "outputs": [],
   "source": [
    "plat_by_data.to_csv('plat_by_data.csv', index=False)"
   ]
  },
  {
   "cell_type": "code",
   "execution_count": 20,
   "id": "6dd7039e-0a65-4ea3-8279-3f5ee8b60e6a",
   "metadata": {},
   "outputs": [
    {
     "data": {
      "text/html": [
       "<div>\n",
       "<style scoped>\n",
       "    .dataframe tbody tr th:only-of-type {\n",
       "        vertical-align: middle;\n",
       "    }\n",
       "\n",
       "    .dataframe tbody tr th {\n",
       "        vertical-align: top;\n",
       "    }\n",
       "\n",
       "    .dataframe thead th {\n",
       "        text-align: right;\n",
       "    }\n",
       "</style>\n",
       "<table border=\"1\" class=\"dataframe\">\n",
       "  <thead>\n",
       "    <tr style=\"text-align: right;\">\n",
       "      <th></th>\n",
       "      <th>Data</th>\n",
       "      <th>Platezh</th>\n",
       "      <th>Bank</th>\n",
       "    </tr>\n",
       "  </thead>\n",
       "  <tbody>\n",
       "    <tr>\n",
       "      <th>2</th>\n",
       "      <td>09.06.2015</td>\n",
       "      <td>12000</td>\n",
       "      <td>2</td>\n",
       "    </tr>\n",
       "    <tr>\n",
       "      <th>5</th>\n",
       "      <td>12.06.2015</td>\n",
       "      <td>8000</td>\n",
       "      <td>2</td>\n",
       "    </tr>\n",
       "    <tr>\n",
       "      <th>7</th>\n",
       "      <td>14.06.2015</td>\n",
       "      <td>8000</td>\n",
       "      <td>1</td>\n",
       "    </tr>\n",
       "    <tr>\n",
       "      <th>6</th>\n",
       "      <td>13.06.2015</td>\n",
       "      <td>7000</td>\n",
       "      <td>1</td>\n",
       "    </tr>\n",
       "    <tr>\n",
       "      <th>4</th>\n",
       "      <td>11.06.2015</td>\n",
       "      <td>5000</td>\n",
       "      <td>1</td>\n",
       "    </tr>\n",
       "    <tr>\n",
       "      <th>3</th>\n",
       "      <td>10.06.2015</td>\n",
       "      <td>4000</td>\n",
       "      <td>1</td>\n",
       "    </tr>\n",
       "    <tr>\n",
       "      <th>1</th>\n",
       "      <td>08.06.2015</td>\n",
       "      <td>2000</td>\n",
       "      <td>1</td>\n",
       "    </tr>\n",
       "    <tr>\n",
       "      <th>0</th>\n",
       "      <td>07.06.2015</td>\n",
       "      <td>1000</td>\n",
       "      <td>1</td>\n",
       "    </tr>\n",
       "  </tbody>\n",
       "</table>\n",
       "</div>"
      ],
      "text/plain": [
       "         Data  Platezh  Bank\n",
       "2  09.06.2015    12000     2\n",
       "5  12.06.2015     8000     2\n",
       "7  14.06.2015     8000     1\n",
       "6  13.06.2015     7000     1\n",
       "4  11.06.2015     5000     1\n",
       "3  10.06.2015     4000     1\n",
       "1  08.06.2015     2000     1\n",
       "0  07.06.2015     1000     1"
      ]
     },
     "execution_count": 20,
     "metadata": {},
     "output_type": "execute_result"
    }
   ],
   "source": [
    "df.groupby('Data', as_index=False) \\\n",
    "    .aggregate({'Platezh': 'sum','Bank': 'count' })\\\n",
    "    .sort_values(\"Platezh\", ascending=False)"
   ]
  },
  {
   "cell_type": "code",
   "execution_count": 21,
   "id": "c5506448-4e58-4874-b8b6-05b68d533f10",
   "metadata": {},
   "outputs": [
    {
     "data": {
      "text/html": [
       "<div>\n",
       "<style scoped>\n",
       "    .dataframe tbody tr th:only-of-type {\n",
       "        vertical-align: middle;\n",
       "    }\n",
       "\n",
       "    .dataframe tbody tr th {\n",
       "        vertical-align: top;\n",
       "    }\n",
       "\n",
       "    .dataframe thead th {\n",
       "        text-align: right;\n",
       "    }\n",
       "</style>\n",
       "<table border=\"1\" class=\"dataframe\">\n",
       "  <thead>\n",
       "    <tr style=\"text-align: right;\">\n",
       "      <th></th>\n",
       "      <th>Name</th>\n",
       "      <th>Platezh</th>\n",
       "      <th>Data</th>\n",
       "      <th>Bank</th>\n",
       "    </tr>\n",
       "  </thead>\n",
       "  <tbody>\n",
       "    <tr>\n",
       "      <th>5</th>\n",
       "      <td>Andrey</td>\n",
       "      <td>6000</td>\n",
       "      <td>12.06.2015</td>\n",
       "      <td>C</td>\n",
       "    </tr>\n",
       "    <tr>\n",
       "      <th>6</th>\n",
       "      <td>Oleg</td>\n",
       "      <td>7000</td>\n",
       "      <td>13.06.2015</td>\n",
       "      <td>A</td>\n",
       "    </tr>\n",
       "    <tr>\n",
       "      <th>7</th>\n",
       "      <td>Anton</td>\n",
       "      <td>8000</td>\n",
       "      <td>14.06.2015</td>\n",
       "      <td>A</td>\n",
       "    </tr>\n",
       "    <tr>\n",
       "      <th>8</th>\n",
       "      <td>Pavel</td>\n",
       "      <td>9000</td>\n",
       "      <td>09.06.2015</td>\n",
       "      <td>B</td>\n",
       "    </tr>\n",
       "  </tbody>\n",
       "</table>\n",
       "</div>"
      ],
      "text/plain": [
       "     Name  Platezh        Data Bank\n",
       "5  Andrey     6000  12.06.2015    C\n",
       "6    Oleg     7000  13.06.2015    A\n",
       "7   Anton     8000  14.06.2015    A\n",
       "8   Pavel     9000  09.06.2015    B"
      ]
     },
     "execution_count": 21,
     "metadata": {},
     "output_type": "execute_result"
    }
   ],
   "source": [
    "df.query('Platezh > 5000')"
   ]
  },
  {
   "cell_type": "code",
   "execution_count": 22,
   "id": "62e1a5d8-a6d3-479d-95c4-b5e88efcc552",
   "metadata": {},
   "outputs": [
    {
     "data": {
      "text/html": [
       "<div>\n",
       "<style scoped>\n",
       "    .dataframe tbody tr th:only-of-type {\n",
       "        vertical-align: middle;\n",
       "    }\n",
       "\n",
       "    .dataframe tbody tr th {\n",
       "        vertical-align: top;\n",
       "    }\n",
       "\n",
       "    .dataframe thead th {\n",
       "        text-align: right;\n",
       "    }\n",
       "</style>\n",
       "<table border=\"1\" class=\"dataframe\">\n",
       "  <thead>\n",
       "    <tr style=\"text-align: right;\">\n",
       "      <th></th>\n",
       "      <th>Name</th>\n",
       "      <th>Platezh</th>\n",
       "      <th>Data</th>\n",
       "      <th>Bank</th>\n",
       "    </tr>\n",
       "  </thead>\n",
       "  <tbody>\n",
       "    <tr>\n",
       "      <th>0</th>\n",
       "      <td>Ivan</td>\n",
       "      <td>1000</td>\n",
       "      <td>07.06.2015</td>\n",
       "      <td>A</td>\n",
       "    </tr>\n",
       "    <tr>\n",
       "      <th>3</th>\n",
       "      <td>Egor</td>\n",
       "      <td>4000</td>\n",
       "      <td>10.06.2015</td>\n",
       "      <td>A</td>\n",
       "    </tr>\n",
       "    <tr>\n",
       "      <th>6</th>\n",
       "      <td>Oleg</td>\n",
       "      <td>7000</td>\n",
       "      <td>13.06.2015</td>\n",
       "      <td>A</td>\n",
       "    </tr>\n",
       "    <tr>\n",
       "      <th>7</th>\n",
       "      <td>Anton</td>\n",
       "      <td>8000</td>\n",
       "      <td>14.06.2015</td>\n",
       "      <td>A</td>\n",
       "    </tr>\n",
       "  </tbody>\n",
       "</table>\n",
       "</div>"
      ],
      "text/plain": [
       "    Name  Platezh        Data Bank\n",
       "0   Ivan     1000  07.06.2015    A\n",
       "3   Egor     4000  10.06.2015    A\n",
       "6   Oleg     7000  13.06.2015    A\n",
       "7  Anton     8000  14.06.2015    A"
      ]
     },
     "execution_count": 22,
     "metadata": {},
     "output_type": "execute_result"
    }
   ],
   "source": [
    "df.query(\"Bank == 'A'\")"
   ]
  },
  {
   "cell_type": "code",
   "execution_count": 23,
   "id": "1f8cc266-836c-4656-a52b-30b71c66214a",
   "metadata": {},
   "outputs": [
    {
     "data": {
      "text/plain": [
       "array(['A', 'B', 'C'], dtype=object)"
      ]
     },
     "execution_count": 23,
     "metadata": {},
     "output_type": "execute_result"
    }
   ],
   "source": [
    "df.Bank.unique()"
   ]
  },
  {
   "cell_type": "code",
   "execution_count": 1,
   "id": "25ed284d-e9f6-4f26-8fba-ec9cb181371f",
   "metadata": {},
   "outputs": [],
   "source": [
    "today = '2024-03-27'"
   ]
  },
  {
   "cell_type": "code",
   "execution_count": 2,
   "id": "96f68706-28d3-4d8e-8a4a-6acf083d2f89",
   "metadata": {},
   "outputs": [],
   "source": [
    "file_name = 'Today_data{}.csv'"
   ]
  },
  {
   "cell_type": "code",
   "execution_count": 3,
   "id": "7e13310f-3c6c-4fd0-a1b1-1f81d0ded5cb",
   "metadata": {},
   "outputs": [
    {
     "data": {
      "text/plain": [
       "'Today_data2024-03-27.csv'"
      ]
     },
     "execution_count": 3,
     "metadata": {},
     "output_type": "execute_result"
    }
   ],
   "source": [
    "file_name.format(today)"
   ]
  },
  {
   "cell_type": "code",
   "execution_count": null,
   "id": "f583ae54-14aa-4ee7-9c87-0250560d3cd4",
   "metadata": {},
   "outputs": [],
   "source": []
  }
 ],
 "metadata": {
  "kernelspec": {
   "display_name": "Python 3 (ipykernel)",
   "language": "python",
   "name": "python3"
  },
  "language_info": {
   "codemirror_mode": {
    "name": "ipython",
    "version": 3
   },
   "file_extension": ".py",
   "mimetype": "text/x-python",
   "name": "python",
   "nbconvert_exporter": "python",
   "pygments_lexer": "ipython3",
   "version": "3.11.7"
  }
 },
 "nbformat": 4,
 "nbformat_minor": 5
}
